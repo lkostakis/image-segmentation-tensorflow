{
 "cells": [
  {
   "cell_type": "code",
   "execution_count": 4,
   "metadata": {
    "scrolled": true
   },
   "outputs": [],
   "source": [
    "import os\n",
    "from io import BytesIO\n",
    "import tarfile\n",
    "import tempfile\n",
    "from six.moves import urllib\n",
    "\n",
    "from matplotlib import gridspec\n",
    "from matplotlib import pyplot as plt\n",
    "import numpy as np\n",
    "from PIL import Image\n",
    "\n",
    "\n",
    "import tensorflow as tf"
   ]
  },
  {
   "cell_type": "code",
   "execution_count": 13,
   "metadata": {},
   "outputs": [],
   "source": [
    "class DeepLabModel(object):\n",
    "  \"\"\"Class to load deeplab model and run inference.\"\"\"\n",
    "\n",
    "  INPUT_TENSOR_NAME = 'ImageTensor:0'\n",
    "  #OUTPUT_TENSOR_NAME = 'SemanticPredictions:0'\n",
    "  OUTPUT_TENSOR_NAME = 'MobilenetV2/expanded_conv_8/output:0'\n",
    "  INPUT_SIZE = 513\n",
    "  FROZEN_GRAPH_NAME = 'frozen_inference_graph'\n",
    "  \n",
    "    \n",
    "  def __init__(self, tarball_path):\n",
    "    \"\"\"Creates and loads pretrained deeplab model.\"\"\"\n",
    "    self.graph = tf.Graph()\n",
    "\n",
    "    graph_def = None\n",
    "    # Extract frozen graph from tar archive.\n",
    "    tar_file = tarfile.open(tarball_path)\n",
    "    for tar_info in tar_file.getmembers():\n",
    "      if self.FROZEN_GRAPH_NAME in os.path.basename(tar_info.name):\n",
    "        file_handle = tar_file.extractfile(tar_info)\n",
    "        graph_def = tf.GraphDef.FromString(file_handle.read())\n",
    "        break\n",
    "\n",
    "    tar_file.close()\n",
    "\n",
    "    if graph_def is None:\n",
    "      raise RuntimeError('Cannot find inference graph in tar archive.')\n",
    "\n",
    "    with self.graph.as_default():\n",
    "      tf.import_graph_def(graph_def, name='')\n",
    "    \n",
    "    #for op in self.graph.get_operations():\n",
    "    #  print(op.name)\n",
    "    \n",
    "    self.sess = tf.Session(graph=self.graph)\n",
    "    \n",
    "  def run(self, image):\n",
    "    \"\"\"Runs inference on a single image.\n",
    "\n",
    "    Args:\n",
    "      image: A PIL.Image object, raw input image.\n",
    "\n",
    "    Returns:\n",
    "      resized_image: RGB image resized from original input image.\n",
    "      seg_map: Segmentation map of `resized_image`.\n",
    "    \"\"\"\n",
    "    width, height = image.size\n",
    "    resize_ratio = 1.0 * self.INPUT_SIZE / max(width, height)\n",
    "    target_size = (int(resize_ratio * width), int(resize_ratio * height))\n",
    "    resized_image = image.convert('RGB').resize(target_size, Image.ANTIALIAS)\n",
    "    batch_seg_map = self.sess.run(\n",
    "        self.OUTPUT_TENSOR_NAME,\n",
    "        feed_dict={self.INPUT_TENSOR_NAME: [np.asarray(resized_image)]})\n",
    "    seg_map = batch_seg_map[0]\n",
    "    return resized_image, seg_map\n",
    "\n",
    "\n",
    "def create_pascal_label_colormap():\n",
    "  \"\"\"Creates a label colormap used in PASCAL VOC segmentation benchmark.\n",
    "\n",
    "  Returns:\n",
    "    A Colormap for visualizing segmentation results.\n",
    "  \"\"\"\n",
    "  colormap = np.zeros((256, 3), dtype=int)\n",
    "  ind = np.arange(256, dtype=int)\n",
    "\n",
    "  for shift in reversed(range(8)):\n",
    "    for channel in range(3):\n",
    "      colormap[:, channel] |= ((ind >> channel) & 1) << shift\n",
    "    ind >>= 3\n",
    "\n",
    "  return colormap\n",
    "\n",
    "\n",
    "def label_to_color_image(label):\n",
    "  \"\"\"Adds color defined by the dataset colormap to the label.\n",
    "\n",
    "  Args:\n",
    "    label: A 2D array with integer type, storing the segmentation label.\n",
    "\n",
    "  Returns:\n",
    "    result: A 2D array with floating type. The element of the array\n",
    "      is the color indexed by the corresponding element in the input label\n",
    "      to the PASCAL color map.\n",
    "\n",
    "  Raises:\n",
    "    ValueError: If label is not of rank 2 or its value is larger than color\n",
    "      map maximum entry.\n",
    "  \"\"\"\n",
    "  if label.ndim != 2:\n",
    "    raise ValueError('Expect 2-D input label')\n",
    "\n",
    "  colormap = create_pascal_label_colormap()\n",
    "\n",
    "  if np.max(label) >= len(colormap):\n",
    "    raise ValueError('label value too large.')\n",
    "\n",
    "  return colormap[label]\n",
    "\n",
    "\n",
    "def vis_segmentation(image, seg_map):\n",
    "  \"\"\"Visualizes input image, segmentation map and overlay view.\"\"\"\n",
    "  plt.figure(figsize=(15, 5))\n",
    "  grid_spec = gridspec.GridSpec(1, 4, width_ratios=[6, 6, 6, 1])\n",
    "\n",
    "  plt.subplot(grid_spec[0])\n",
    "  plt.imshow(image)\n",
    "  plt.axis('off')\n",
    "  plt.title('input image')\n",
    "\n",
    "  plt.subplot(grid_spec[1])\n",
    "  seg_image = label_to_color_image(seg_map).astype(np.uint8)\n",
    "  plt.imshow(seg_image)\n",
    "  plt.axis('off')\n",
    "  plt.title('segmentation map')\n",
    "\n",
    "  plt.subplot(grid_spec[2])\n",
    "  plt.imshow(image)\n",
    "  plt.imshow(seg_image, alpha=0.7)\n",
    "  plt.axis('off')\n",
    "  plt.title('segmentation overlay')\n",
    "\n",
    "  unique_labels = np.unique(seg_map)\n",
    "  ax = plt.subplot(grid_spec[3])\n",
    "  plt.imshow(\n",
    "      FULL_COLOR_MAP[unique_labels].astype(np.uint8), interpolation='nearest')\n",
    "  ax.yaxis.tick_right()\n",
    "  plt.yticks(range(len(unique_labels)), LABEL_NAMES[unique_labels])\n",
    "  plt.xticks([], [])\n",
    "  ax.tick_params(width=0.0)\n",
    "  plt.grid('off')\n",
    "  plt.show()\n",
    "\n",
    "\n",
    "LABEL_NAMES = np.asarray([\n",
    "    'background', 'aeroplane', 'bicycle', 'bird', 'boat', 'bottle', 'bus',\n",
    "    'car', 'cat', 'chair', 'cow', 'diningtable', 'dog', 'horse', 'motorbike',\n",
    "    'person', 'pottedplant', 'sheep', 'sofa', 'train', 'tv'\n",
    "])\n",
    "\n",
    "FULL_LABEL_MAP = np.arange(len(LABEL_NAMES)).reshape(len(LABEL_NAMES), 1)\n",
    "FULL_COLOR_MAP = label_to_color_image(FULL_LABEL_MAP)"
   ]
  },
  {
   "cell_type": "code",
   "execution_count": 14,
   "metadata": {},
   "outputs": [
    {
     "name": "stdout",
     "output_type": "stream",
     "text": [
      "downloading model, this might take a while...\n",
      "download completed! loading DeepLab model...\n",
      "model loaded successfully!\n"
     ]
    }
   ],
   "source": [
    "MODEL_NAME = 'mobilenetv2_coco_voctrainaug'  # @param ['mobilenetv2_coco_voctrainaug', 'mobilenetv2_coco_voctrainval', 'xception_coco_voctrainaug', 'xception_coco_voctrainval']\n",
    "\n",
    "_DOWNLOAD_URL_PREFIX = 'http://download.tensorflow.org/models/'\n",
    "_MODEL_URLS = {\n",
    "    'mobilenetv2_coco_voctrainaug':\n",
    "        'deeplabv3_mnv2_pascal_train_aug_2018_01_29.tar.gz',\n",
    "    'mobilenetv2_coco_voctrainval':\n",
    "        'deeplabv3_mnv2_pascal_trainval_2018_01_29.tar.gz',\n",
    "    'xception_coco_voctrainaug':\n",
    "        'deeplabv3_pascal_train_aug_2018_01_04.tar.gz',\n",
    "    'xception_coco_voctrainval':\n",
    "        'deeplabv3_pascal_trainval_2018_01_04.tar.gz',\n",
    "}\n",
    "_TARBALL_NAME = 'deeplab_model.tar.gz'\n",
    "\n",
    "model_dir = tempfile.mkdtemp()\n",
    "tf.gfile.MakeDirs(model_dir)\n",
    "\n",
    "download_path = os.path.join(model_dir, _TARBALL_NAME)\n",
    "print('downloading model, this might take a while...')\n",
    "urllib.request.urlretrieve(_DOWNLOAD_URL_PREFIX + _MODEL_URLS[MODEL_NAME],\n",
    "                   download_path)\n",
    "print('download completed! loading DeepLab model...')\n",
    "\n",
    "MODEL = DeepLabModel(download_path)\n",
    "print('model loaded successfully!')"
   ]
  },
  {
   "cell_type": "code",
   "execution_count": 17,
   "metadata": {},
   "outputs": [],
   "source": [
    "def pca():\n",
    "    deepfeats = np.load('deepfeats.npy')\n",
    "    #print(deepfeats.shape)\n",
    "    from sklearn.decomposition import PCA\n",
    "    # Για να χρησιμοποιήσουμε PCA, θέλουμε να κάνουμε reshape τα δεδομένα μας (ένα διάνυσμα μεγέθους C=256 ανά pixel δηλαδή)\n",
    "    # Οπότε αν έχουμε έναν τανυστή H x W x C, θα κάνουμε reshape σε πίνακα HW x C (=αριθμός δεδομένων-pixels επί διάσταση δεδομένων)\n",
    "    N = deepfeats.shape[0]*deepfeats.shape[1]\n",
    "    C = deepfeats.shape[-1]\n",
    "    X = np.reshape(deepfeats, [N, C])\n",
    "    print('Τα αρχικά δεδομένα μου έχουν μέγεθος: {}'.format(X.shape))\n",
    "    Xreduced = PCA(n_components=3).fit_transform(X)\n",
    "    print('Μετά το PCA έχουμε μέγεθος: {}'.format(Xreduced.shape))\n",
    "\n",
    "    deepfeats_reduced = np.reshape(Xreduced, [deepfeats.shape[0], deepfeats.shape[1], 3])\n",
    "\n",
    "    plt.imshow(deepfeats_reduced)\n",
    "    plt.show()    \n"
   ]
  },
  {
   "cell_type": "code",
   "execution_count": 18,
   "metadata": {
    "scrolled": false
   },
   "outputs": [
    {
     "name": "stderr",
     "output_type": "stream",
     "text": [
      "Clipping input data to the valid range for imshow with RGB data ([0..1] for floats or [0..255] for integers).\n"
     ]
    },
    {
     "name": "stdout",
     "output_type": "stream",
     "text": [
      "running deeplab on image <PIL.JpegImagePlugin.JpegImageFile image mode=RGB size=657x610 at 0x7F2A640BF9D0>...\n",
      "(65, 65, 64)\n",
      "Τα αρχικά δεδομένα μου έχουν μέγεθος: (4225, 64)\n",
      "Μετά το PCA έχουμε μέγεθος: (4225, 3)\n"
     ]
    },
    {
     "data": {
      "image/png": "[encoded data removed]",
      "text/plain": [
       "<Figure size 432x288 with 1 Axes>"
      ]
     },
     "metadata": {
      "needs_background": "light"
     },
     "output_type": "display_data"
    },
    {
     "name": "stderr",
     "output_type": "stream",
     "text": [
      "Clipping input data to the valid range for imshow with RGB data ([0..1] for floats or [0..255] for integers).\n"
     ]
    },
    {
     "name": "stdout",
     "output_type": "stream",
     "text": [
      "running deeplab on image <PIL.JpegImagePlugin.JpegImageFile image mode=RGB size=531x452 at 0x7F2A5E44DD50>...\n",
      "(65, 65, 64)\n",
      "Τα αρχικά δεδομένα μου έχουν μέγεθος: (4225, 64)\n",
      "Μετά το PCA έχουμε μέγεθος: (4225, 3)\n"
     ]
    },
    {
     "data": {
      "image/png": "[encoded data removed]",
      "text/plain": [
       "<Figure size 432x288 with 1 Axes>"
      ]
     },
     "metadata": {
      "needs_background": "light"
     },
     "output_type": "display_data"
    },
    {
     "name": "stdout",
     "output_type": "stream",
     "text": [
      "running deeplab on image <PIL.JpegImagePlugin.JpegImageFile image mode=RGB size=1531x2048 at 0x7F2A640BFED0>...\n"
     ]
    },
    {
     "name": "stderr",
     "output_type": "stream",
     "text": [
      "Clipping input data to the valid range for imshow with RGB data ([0..1] for floats or [0..255] for integers).\n"
     ]
    },
    {
     "name": "stdout",
     "output_type": "stream",
     "text": [
      "(65, 65, 64)\n",
      "Τα αρχικά δεδομένα μου έχουν μέγεθος: (4225, 64)\n",
      "Μετά το PCA έχουμε μέγεθος: (4225, 3)\n"
     ]
    },
    {
     "data": {
      "image/png": "[encoded data removed]",
      "text/plain": [
       "<Figure size 432x288 with 1 Axes>"
      ]
     },
     "metadata": {
      "needs_background": "light"
     },
     "output_type": "display_data"
    },
    {
     "name": "stdout",
     "output_type": "stream",
     "text": [
      "running deeplab on image <PIL.JpegImagePlugin.JpegImageFile image mode=RGB size=466x590 at 0x7F2A640BF8D0>...\n"
     ]
    },
    {
     "name": "stderr",
     "output_type": "stream",
     "text": [
      "Clipping input data to the valid range for imshow with RGB data ([0..1] for floats or [0..255] for integers).\n"
     ]
    },
    {
     "name": "stdout",
     "output_type": "stream",
     "text": [
      "(65, 65, 64)\n",
      "Τα αρχικά δεδομένα μου έχουν μέγεθος: (4225, 64)\n",
      "Μετά το PCA έχουμε μέγεθος: (4225, 3)\n"
     ]
    },
    {
     "data": {
      "image/png": "[encoded data removed]",
      "text/plain": [
       "<Figure size 432x288 with 1 Axes>"
      ]
     },
     "metadata": {
      "needs_background": "light"
     },
     "output_type": "display_data"
    },
    {
     "name": "stdout",
     "output_type": "stream",
     "text": [
      "running deeplab on image <PIL.JpegImagePlugin.JpegImageFile image mode=RGB size=480x288 at 0x7F2A5E454890>...\n"
     ]
    },
    {
     "name": "stderr",
     "output_type": "stream",
     "text": [
      "Clipping input data to the valid range for imshow with RGB data ([0..1] for floats or [0..255] for integers).\n"
     ]
    },
    {
     "name": "stdout",
     "output_type": "stream",
     "text": [
      "(65, 65, 64)\n",
      "Τα αρχικά δεδομένα μου έχουν μέγεθος: (4225, 64)\n",
      "Μετά το PCA έχουμε μέγεθος: (4225, 3)\n"
     ]
    },
    {
     "data": {
      "image/png": "[encoded data removed]",
      "text/plain": [
       "<Figure size 432x288 with 1 Axes>"
      ]
     },
     "metadata": {
      "needs_background": "light"
     },
     "output_type": "display_data"
    }
   ],
   "source": [
    "IMAGE_URL = [Image.open(\"/home/left/github/teliki-askisi-me-tensorflow-terrys48/image1.jpg\"),\n",
    "             Image.open(\"/home/left/github/teliki-askisi-me-tensorflow-terrys48/image2.jpg\"),\n",
    "             Image.open(\"/home/left/github/teliki-askisi-me-tensorflow-terrys48/image3.jpg\"),\n",
    "             Image.open(\"/home/left/github/teliki-askisi-me-tensorflow-terrys48/image4.jpg\"),\n",
    "             Image.open(\"/home/left/github/teliki-askisi-me-tensorflow-terrys48/image5.jpg\")]\n",
    "\n",
    "for x in IMAGE_URL:\n",
    "    def run_visualization(url):\n",
    "\n",
    "        original_im = x\n",
    "        print('running deeplab on image %s...' % url)\n",
    "        resized_im, seg_map = MODEL.run(original_im)\n",
    "        \n",
    "        #vis_segmentation(resized_im, seg_map)\n",
    "        np.save('deepfeats.npy', seg_map)\n",
    "        pca()\n",
    "    run_visualization(x)"
   ]
  },
  {
   "cell_type": "code",
   "execution_count": null,
   "metadata": {},
   "outputs": [],
   "source": []
  }
 ],
 "metadata": {
  "kernelspec": {
   "display_name": "Python 3",
   "language": "python",
   "name": "python3"
  },
  "language_info": {
   "codemirror_mode": {
    "name": "ipython",
    "version": 3
   },
   "file_extension": ".py",
   "mimetype": "text/x-python",
   "name": "python",
   "nbconvert_exporter": "python",
   "pygments_lexer": "ipython3",
   "version": "3.7.7"
  }
 },
 "nbformat": 4,
 "nbformat_minor": 4
}
